{
 "cells": [
  {
   "cell_type": "markdown",
   "metadata": {},
   "source": [
    "# Ajuste datos financieros\n"
   ]
  },
  {
   "cell_type": "code",
   "execution_count": 10,
   "metadata": {
    "pycharm": {
     "name": "#%%\n"
    }
   },
   "outputs": [],
   "source": [
    "import pandas as pd\n",
    "pd.set_option('display.max_rows', 1000)\n",
    "pd.set_option('display.max_columns', 1000)  # Setup para ampliar visualización de datos (en este caso DataFrame) en el IDE\n",
    "pd.set_option('display.width', 1000)"
   ]
  },
  {
   "cell_type": "code",
   "execution_count": 11,
   "metadata": {
    "pycharm": {
     "name": "#%%\n"
    },
    "scrolled": true
   },
   "outputs": [],
   "source": [
    "ecopetrol_df = pd.read_excel(\"Ecopetrol 2013-2019 raw data.xls\")  # Importar datos financieros como Dataframe, (previamente convertidos de\n",
    "# Formato xls a csv) usando pandas\n",
    "\n"
   ]
  },
  {
   "cell_type": "code",
   "execution_count": 12,
   "metadata": {},
   "outputs": [],
   "source": [
    "keep_columns = ['fecha', 'Volumen', 'Precio Cierre', 'Precio Mayor', 'Precio Menor', 'Variacion Absoluta']   # Se\n",
    "# Establecen las columnas que se van a usar,\"Cantidad de transacciones\" y \"Precio Medio\" se descartan\n"
   ]
  },
  {
   "cell_type": "code",
   "execution_count": 13,
   "metadata": {},
   "outputs": [],
   "source": [
    "ecopetrol_df['Precio Apertura'] = ecopetrol_df['Precio Cierre'] + ecopetrol_df['Variacion Absoluta']\n",
    "# Se calcula el valor \"Open\" de la accion\n",
    "\n",
    "\n"
   ]
  },
  {
   "cell_type": "code",
   "execution_count": 14,
   "metadata": {},
   "outputs": [],
   "source": [
    "columns_fixed = ['fecha', 'Precio Apertura', 'Precio Mayor', 'Precio Menor', 'Precio Cierre', 'Volumen']\n",
    "ecopetrol_df = ecopetrol_df[columns_fixed]\n",
    "# Orden de las columnas de datos, según formato requerido\n",
    "\n"
   ]
  },
  {
   "cell_type": "code",
   "execution_count": 15,
   "metadata": {
    "scrolled": true
   },
   "outputs": [
    {
     "name": "stdout",
     "output_type": "stream",
     "text": [
      "            Precio Apertura  Precio Mayor  Precio Menor  Precio Cierre      Volumen\n",
      "fecha                                                                              \n",
      "2013-01-02             5440          5460          5330           5450  24550929470\n",
      "2013-01-03             5530          5490          5420           5490  11724331860\n",
      "2013-01-04             5550          5520          5440           5520  16882987200\n",
      "2013-01-08             5340          5510          5430           5430  18881555390\n",
      "2013-01-09             5470          5450          5420           5450  15444674270\n",
      "...                     ...           ...           ...            ...          ...\n",
      "2019-12-23             3380          3350          3300           3350   8792841635\n",
      "2019-12-24             3290          3370          3320           3320   2386944070\n",
      "2019-12-26             3370          3355          3300           3345   3805585725\n",
      "2019-12-27             3335          3360          3330           3340   5286205100\n",
      "2019-12-30             3290          3365          3315           3315   5760071200\n",
      "\n",
      "[1704 rows x 5 columns]\n"
     ]
    }
   ],
   "source": [
    "# Establecer la fecha como indice para que el indice predeterminado (0,1,2,3,4..) no se agregue como una columna nueva\n",
    "\n",
    "ecopetrol_df = ecopetrol_df.set_index('fecha')\n",
    "\n",
    "print(ecopetrol_df)\n"
   ]
  },
  {
   "cell_type": "code",
   "execution_count": 16,
   "metadata": {
    "pycharm": {
     "name": "#%%\n"
    }
   },
   "outputs": [
    {
     "name": "stdout",
     "output_type": "stream",
     "text": [
      "           fecha  Precio Apertura  Precio Mayor  Precio Menor  Precio Cierre      Volumen\n",
      "0     2013-01-02             5440          5460          5330           5450  24550929470\n",
      "1     2013-01-03             5530          5490          5420           5490  11724331860\n",
      "2     2013-01-04             5550          5520          5440           5520  16882987200\n",
      "3     2013-01-08             5340          5510          5430           5430  18881555390\n",
      "4     2013-01-09             5470          5450          5420           5450  15444674270\n",
      "...          ...              ...           ...           ...            ...          ...\n",
      "1699  2019-12-23             3380          3350          3300           3350   8792841635\n",
      "1700  2019-12-24             3290          3370          3320           3320   2386944070\n",
      "1701  2019-12-26             3370          3355          3300           3345   3805585725\n",
      "1702  2019-12-27             3335          3360          3330           3340   5286205100\n",
      "1703  2019-12-30             3290          3365          3315           3315   5760071200\n",
      "\n",
      "[1704 rows x 6 columns]\n"
     ]
    }
   ],
   "source": [
    "ecopetrol_csv_cleaned = ecopetrol_df.to_csv('Ecopetrol limpio.csv', encoding='utf-8')\n",
    "# Conversión y guardado de los datos en disco\n",
    "ecopetrol_csv_limpio = pd.read_csv('Ecopetrol limpio.csv')\n",
    "\n",
    "print(ecopetrol_csv_limpio)\n",
    "\n"
   ]
  },
  {
   "cell_type": "markdown",
   "metadata": {},
   "source": [
    "# Limpieza datos de noticias\n"
   ]
  },
  {
   "cell_type": "code",
   "execution_count": 17,
   "metadata": {},
   "outputs": [],
   "source": [
    "\n",
    "noticias_republica = pd.read_excel('larepublica raw data.xlsx')\n"
   ]
  },
  {
   "cell_type": "code",
   "execution_count": 18,
   "metadata": {},
   "outputs": [],
   "source": [
    "noticias_republica['Noticia'] = noticias_republica['Title'] + '. ' + noticias_republica['Text']   # concatenar las columnas Title y Text dentro de una sola, Noticia."
   ]
  },
  {
   "cell_type": "code",
   "execution_count": 19,
   "metadata": {},
   "outputs": [
    {
     "ename": "AttributeError",
     "evalue": "'Series' object has no attribute 'split'",
     "output_type": "error",
     "traceback": [
      "\u001b[1;31m---------------------------------------------------------------------------\u001b[0m",
      "\u001b[1;31mAttributeError\u001b[0m                            Traceback (most recent call last)",
      "\u001b[1;32m<ipython-input-19-1d7b5b826fa9>\u001b[0m in \u001b[0;36m<module>\u001b[1;34m\u001b[0m\n\u001b[0;32m      1\u001b[0m \u001b[0mnoticias_republica\u001b[0m \u001b[1;33m=\u001b[0m \u001b[0mnoticias_republica\u001b[0m\u001b[1;33m.\u001b[0m\u001b[0mdrop\u001b[0m\u001b[1;33m(\u001b[0m\u001b[1;33m[\u001b[0m\u001b[1;34m'Title'\u001b[0m\u001b[1;33m,\u001b[0m \u001b[1;34m'Text'\u001b[0m\u001b[1;33m]\u001b[0m\u001b[1;33m,\u001b[0m \u001b[1;36m1\u001b[0m\u001b[1;33m)\u001b[0m  \u001b[1;31m# Descartar las columnas sobrantes\u001b[0m\u001b[1;33m\u001b[0m\u001b[1;33m\u001b[0m\u001b[0m\n\u001b[1;32m----> 2\u001b[1;33m \u001b[0mserie_fechas\u001b[0m \u001b[1;33m=\u001b[0m \u001b[0mnoticias_republica\u001b[0m\u001b[1;33m[\u001b[0m\u001b[1;34m'Pub_Time'\u001b[0m\u001b[1;33m]\u001b[0m\u001b[1;33m.\u001b[0m\u001b[0msplit\u001b[0m\u001b[1;33m(\u001b[0m\u001b[1;34m''\u001b[0m\u001b[1;33m)\u001b[0m\u001b[1;33m\u001b[0m\u001b[1;33m\u001b[0m\u001b[0m\n\u001b[0m",
      "\u001b[1;32mC:\\ProgramData\\Anaconda3\\lib\\site-packages\\pandas\\core\\generic.py\u001b[0m in \u001b[0;36m__getattr__\u001b[1;34m(self, name)\u001b[0m\n\u001b[0;32m   5137\u001b[0m             \u001b[1;32mif\u001b[0m \u001b[0mself\u001b[0m\u001b[1;33m.\u001b[0m\u001b[0m_info_axis\u001b[0m\u001b[1;33m.\u001b[0m\u001b[0m_can_hold_identifiers_and_holds_name\u001b[0m\u001b[1;33m(\u001b[0m\u001b[0mname\u001b[0m\u001b[1;33m)\u001b[0m\u001b[1;33m:\u001b[0m\u001b[1;33m\u001b[0m\u001b[1;33m\u001b[0m\u001b[0m\n\u001b[0;32m   5138\u001b[0m                 \u001b[1;32mreturn\u001b[0m \u001b[0mself\u001b[0m\u001b[1;33m[\u001b[0m\u001b[0mname\u001b[0m\u001b[1;33m]\u001b[0m\u001b[1;33m\u001b[0m\u001b[1;33m\u001b[0m\u001b[0m\n\u001b[1;32m-> 5139\u001b[1;33m             \u001b[1;32mreturn\u001b[0m \u001b[0mobject\u001b[0m\u001b[1;33m.\u001b[0m\u001b[0m__getattribute__\u001b[0m\u001b[1;33m(\u001b[0m\u001b[0mself\u001b[0m\u001b[1;33m,\u001b[0m \u001b[0mname\u001b[0m\u001b[1;33m)\u001b[0m\u001b[1;33m\u001b[0m\u001b[1;33m\u001b[0m\u001b[0m\n\u001b[0m\u001b[0;32m   5140\u001b[0m \u001b[1;33m\u001b[0m\u001b[0m\n\u001b[0;32m   5141\u001b[0m     \u001b[1;32mdef\u001b[0m \u001b[0m__setattr__\u001b[0m\u001b[1;33m(\u001b[0m\u001b[0mself\u001b[0m\u001b[1;33m,\u001b[0m \u001b[0mname\u001b[0m\u001b[1;33m:\u001b[0m \u001b[0mstr\u001b[0m\u001b[1;33m,\u001b[0m \u001b[0mvalue\u001b[0m\u001b[1;33m)\u001b[0m \u001b[1;33m->\u001b[0m \u001b[1;32mNone\u001b[0m\u001b[1;33m:\u001b[0m\u001b[1;33m\u001b[0m\u001b[1;33m\u001b[0m\u001b[0m\n",
      "\u001b[1;31mAttributeError\u001b[0m: 'Series' object has no attribute 'split'"
     ]
    }
   ],
   "source": [
    "noticias_republica = noticias_republica.drop(['Title', 'Text'], 1)  # Descartar las columnas sobrantes\n",
    "serie_fechas = noticias_republica['Pub_Time']."
   ]
  }
 ],
 "metadata": {
  "kernelspec": {
   "display_name": "Python 3",
   "language": "python",
   "name": "python3"
  },
  "language_info": {
   "codemirror_mode": {
    "name": "ipython",
    "version": 3
   },
   "file_extension": ".py",
   "mimetype": "text/x-python",
   "name": "python",
   "nbconvert_exporter": "python",
   "pygments_lexer": "ipython3",
   "version": "3.8.5"
  }
 },
 "nbformat": 4,
 "nbformat_minor": 4
}
