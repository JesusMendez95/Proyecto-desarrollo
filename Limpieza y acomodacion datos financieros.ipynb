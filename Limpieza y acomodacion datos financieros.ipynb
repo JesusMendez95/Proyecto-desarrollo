{
 "cells": [
  {
   "attachments": {},
   "cell_type": "markdown",
   "metadata": {},
   "source": [
    "# Ajuste datos financieros\n"
   ]
  },
  {
   "cell_type": "code",
   "execution_count": 37,
   "metadata": {
    "pycharm": {
     "name": "#%%\n"
    }
   },
   "outputs": [],
   "source": [
    "import pandas as pandas\n",
    "pd.set_option('display.max_rows', 1000)\n",
    "pd.set_option('display.max_columns', 1000)  # Setup para ampliar visualización de datos (en este caso DataFrame) en el IDE\n",
    "pd.set_option('display.width', 1000)"
   ]
  },
  {
   "cell_type": "code",
   "execution_count": 38,
   "metadata": {
    "pycharm": {
     "name": "#%%\n"
    },
    "scrolled": true
   },
   "outputs": [],
   "source": [
    "ecopetrol_DataFrame = pd.read_excel(\"Ecopetrol 2013-2019 raw data.xls\")  # Importar datos financieros como Dataframe, (previamente convertidos de\n",
    "# Formato xls a csv) usando pandas\n",
    "\n"
   ]
  },
  {
   "cell_type": "code",
   "execution_count": 39,
   "metadata": {},
   "outputs": [],
   "source": [
    "keep_columns = ['fecha', 'Volumen', 'Precio Cierre', 'Precio Mayor', 'Precio Menor', 'Variacion Absoluta']   # Se\n",
    "# Establecen las columnas que se van a usar,\"Cantidad de transacciones\" y \"Precio Medio\" se descartan\n"
   ]
  },
  {
   "cell_type": "code",
   "execution_count": 40,
   "metadata": {},
   "outputs": [],
   "source": [
    "ecopetrol_DataFrame['Precio Apertura'] = ecopetrol_DataFrame['Precio Cierre'] + ecopetrol_DataFrame['Variacion Absoluta']\n",
    "# Se calcula el valor \"Open\" de la accion\n",
    "\n",
    "\n"
   ]
  },
  {
   "cell_type": "code",
   "execution_count": 41,
   "metadata": {},
   "outputs": [],
   "source": [
    "columns_fixed = ['fecha', 'Precio Apertura', 'Precio Mayor', 'Precio Menor', 'Precio Cierre', 'Volumen']\n",
    "Ecopetrol_DataFrame = ecopetrol_DataFrame[columns_fixed]\n",
    "# Orden de las columnas de datos, según formato requerido\n",
    "\n"
   ]
  },
  {
   "cell_type": "code",
   "execution_count": 42,
   "metadata": {
    "scrolled": true
   },
   "outputs": [
    {
     "name": "stdout",
     "output_type": "stream",
     "text": [
      "            Precio Apertura  Precio Mayor  Precio Menor  Precio Cierre      Volumen\n",
      "fecha                                                                              \n",
      "2013-01-02             5440          5460          5330           5450  24550929470\n",
      "2013-01-03             5530          5490          5420           5490  11724331860\n",
      "2013-01-04             5550          5520          5440           5520  16882987200\n",
      "2013-01-08             5340          5510          5430           5430  18881555390\n",
      "2013-01-09             5470          5450          5420           5450  15444674270\n",
      "...                     ...           ...           ...            ...          ...\n",
      "2019-12-23             3380          3350          3300           3350   8792841635\n",
      "2019-12-24             3290          3370          3320           3320   2386944070\n",
      "2019-12-26             3370          3355          3300           3345   3805585725\n",
      "2019-12-27             3335          3360          3330           3340   5286205100\n",
      "2019-12-30             3290          3365          3315           3315   5760071200\n",
      "\n",
      "[1704 rows x 5 columns]\n"
     ]
    }
   ],
   "source": [
    "# Establecer la fecha como indice para que el indice predeterminado (0,1,2,3,4..) no se agregue como una columna nueva\n",
    "\n",
    "Ecopetrol_DataFrame = Ecopetrol_DataFrame.set_index('fecha')\n",
    "\n",
    "print(Ecopetrol_DataFrame)\n"
   ]
  },
  {
   "cell_type": "code",
   "execution_count": 43,
   "metadata": {
    "pycharm": {
     "name": "#%%\n"
    }
   },
   "outputs": [
    {
     "name": "stdout",
     "output_type": "stream",
     "text": [
      "           fecha  Precio Apertura  Precio Mayor  Precio Menor  Precio Cierre      Volumen\n",
      "0     2013-01-02             5440          5460          5330           5450  24550929470\n",
      "1     2013-01-03             5530          5490          5420           5490  11724331860\n",
      "2     2013-01-04             5550          5520          5440           5520  16882987200\n",
      "3     2013-01-08             5340          5510          5430           5430  18881555390\n",
      "4     2013-01-09             5470          5450          5420           5450  15444674270\n",
      "...          ...              ...           ...           ...            ...          ...\n",
      "1699  2019-12-23             3380          3350          3300           3350   8792841635\n",
      "1700  2019-12-24             3290          3370          3320           3320   2386944070\n",
      "1701  2019-12-26             3370          3355          3300           3345   3805585725\n",
      "1702  2019-12-27             3335          3360          3330           3340   5286205100\n",
      "1703  2019-12-30             3290          3365          3315           3315   5760071200\n",
      "\n",
      "[1704 rows x 6 columns]\n"
     ]
    }
   ],
   "source": [
    "Ecopetrol_csv_cleaned = Ecopetrol_DataFrame.to_csv('Ecopetrol limpio.csv', encoding='utf-8')\n",
    "# Conversión y guardado de los datos en disco\n",
    "Ecopetrol_csv_limpio = pd.read_csv('Ecopetrol limpio.csv')\n",
    "\n",
    "print(Ecopetrol_csv_limpio)\n",
    "\n"
   ]
  },
  {
   "cell_type": "markdown",
   "metadata": {},
   "source": [
    "# Limpieza datos de noticias\n"
   ]
  },
  {
   "cell_type": "code",
   "execution_count": 44,
   "metadata": {},
   "outputs": [
    {
     "name": "stdout",
     "output_type": "stream",
     "text": [
      "Index(['Title', 'Text', 'Pub_Time'], dtype='object')\n"
     ]
    }
   ],
   "source": [
    "\n",
    "noticias_republica = pd.read_excel('larepublica raw data.xlsx')\n"
   ]
  },
  {
   "cell_type": "code",
   "execution_count": null,
   "metadata": {},
   "outputs": [],
   "source": [
    "noticias_republica['Noticia'] = noticias_republica['Title'] + '. ' + noticias_republica['Text']   # concatenar las columnas Title y Text dentro de una sola, Noticia."
   ]
  },
  {
   "cell_type": "code",
   "execution_count": null,
   "metadata": {},
   "outputs": [],
   "source": [
    "noticias_republica = noticias_republica.drop(['Title', 'Text'], 1)  # Descartar las columnas sobrantes\n",
    "serie_fechas = noticias_republica['Pub_Time'].split('')"
   ]
  }
 ],
 "metadata": {
  "kernelspec": {
   "display_name": "Python 3",
   "language": "python",
   "name": "python3"
  },
  "language_info": {
   "codemirror_mode": {
    "name": "ipython",
    "version": 3
   },
   "file_extension": ".py",
   "mimetype": "text/x-python",
   "name": "python",
   "nbconvert_exporter": "python",
   "pygments_lexer": "ipython3",
   "version": "3.8.5"
  }
 },
 "nbformat": 4,
 "nbformat_minor": 1
}
